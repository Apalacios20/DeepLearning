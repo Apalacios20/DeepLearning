{
  "nbformat": 4,
  "nbformat_minor": 0,
  "metadata": {
    "colab": {
      "provenance": [],
      "collapsed_sections": []
    },
    "kernelspec": {
      "name": "python3",
      "display_name": "Python 3"
    },
    "language_info": {
      "name": "python"
    }
  },
  "cells": [
    {
      "cell_type": "code",
      "execution_count": 11,
      "metadata": {
        "colab": {
          "base_uri": "https://localhost:8080/",
          "height": 262
        },
        "id": "jNlr18XUcPrC",
        "outputId": "682a89c1-cff9-478a-8171-65df667a15b0"
      },
      "outputs": [
        {
          "output_type": "display_data",
          "data": {
            "text/plain": [
              "<IPython.core.display.HTML object>"
            ],
            "text/html": [
              "\n",
              "     <input type=\"file\" id=\"files-fa085d09-f562-41fd-b48b-05f0bcae919b\" name=\"files[]\" multiple disabled\n",
              "        style=\"border:none\" />\n",
              "     <output id=\"result-fa085d09-f562-41fd-b48b-05f0bcae919b\">\n",
              "      Upload widget is only available when the cell has been executed in the\n",
              "      current browser session. Please rerun this cell to enable.\n",
              "      </output>\n",
              "      <script>// Copyright 2017 Google LLC\n",
              "//\n",
              "// Licensed under the Apache License, Version 2.0 (the \"License\");\n",
              "// you may not use this file except in compliance with the License.\n",
              "// You may obtain a copy of the License at\n",
              "//\n",
              "//      http://www.apache.org/licenses/LICENSE-2.0\n",
              "//\n",
              "// Unless required by applicable law or agreed to in writing, software\n",
              "// distributed under the License is distributed on an \"AS IS\" BASIS,\n",
              "// WITHOUT WARRANTIES OR CONDITIONS OF ANY KIND, either express or implied.\n",
              "// See the License for the specific language governing permissions and\n",
              "// limitations under the License.\n",
              "\n",
              "/**\n",
              " * @fileoverview Helpers for google.colab Python module.\n",
              " */\n",
              "(function(scope) {\n",
              "function span(text, styleAttributes = {}) {\n",
              "  const element = document.createElement('span');\n",
              "  element.textContent = text;\n",
              "  for (const key of Object.keys(styleAttributes)) {\n",
              "    element.style[key] = styleAttributes[key];\n",
              "  }\n",
              "  return element;\n",
              "}\n",
              "\n",
              "// Max number of bytes which will be uploaded at a time.\n",
              "const MAX_PAYLOAD_SIZE = 100 * 1024;\n",
              "\n",
              "function _uploadFiles(inputId, outputId) {\n",
              "  const steps = uploadFilesStep(inputId, outputId);\n",
              "  const outputElement = document.getElementById(outputId);\n",
              "  // Cache steps on the outputElement to make it available for the next call\n",
              "  // to uploadFilesContinue from Python.\n",
              "  outputElement.steps = steps;\n",
              "\n",
              "  return _uploadFilesContinue(outputId);\n",
              "}\n",
              "\n",
              "// This is roughly an async generator (not supported in the browser yet),\n",
              "// where there are multiple asynchronous steps and the Python side is going\n",
              "// to poll for completion of each step.\n",
              "// This uses a Promise to block the python side on completion of each step,\n",
              "// then passes the result of the previous step as the input to the next step.\n",
              "function _uploadFilesContinue(outputId) {\n",
              "  const outputElement = document.getElementById(outputId);\n",
              "  const steps = outputElement.steps;\n",
              "\n",
              "  const next = steps.next(outputElement.lastPromiseValue);\n",
              "  return Promise.resolve(next.value.promise).then((value) => {\n",
              "    // Cache the last promise value to make it available to the next\n",
              "    // step of the generator.\n",
              "    outputElement.lastPromiseValue = value;\n",
              "    return next.value.response;\n",
              "  });\n",
              "}\n",
              "\n",
              "/**\n",
              " * Generator function which is called between each async step of the upload\n",
              " * process.\n",
              " * @param {string} inputId Element ID of the input file picker element.\n",
              " * @param {string} outputId Element ID of the output display.\n",
              " * @return {!Iterable<!Object>} Iterable of next steps.\n",
              " */\n",
              "function* uploadFilesStep(inputId, outputId) {\n",
              "  const inputElement = document.getElementById(inputId);\n",
              "  inputElement.disabled = false;\n",
              "\n",
              "  const outputElement = document.getElementById(outputId);\n",
              "  outputElement.innerHTML = '';\n",
              "\n",
              "  const pickedPromise = new Promise((resolve) => {\n",
              "    inputElement.addEventListener('change', (e) => {\n",
              "      resolve(e.target.files);\n",
              "    });\n",
              "  });\n",
              "\n",
              "  const cancel = document.createElement('button');\n",
              "  inputElement.parentElement.appendChild(cancel);\n",
              "  cancel.textContent = 'Cancel upload';\n",
              "  const cancelPromise = new Promise((resolve) => {\n",
              "    cancel.onclick = () => {\n",
              "      resolve(null);\n",
              "    };\n",
              "  });\n",
              "\n",
              "  // Wait for the user to pick the files.\n",
              "  const files = yield {\n",
              "    promise: Promise.race([pickedPromise, cancelPromise]),\n",
              "    response: {\n",
              "      action: 'starting',\n",
              "    }\n",
              "  };\n",
              "\n",
              "  cancel.remove();\n",
              "\n",
              "  // Disable the input element since further picks are not allowed.\n",
              "  inputElement.disabled = true;\n",
              "\n",
              "  if (!files) {\n",
              "    return {\n",
              "      response: {\n",
              "        action: 'complete',\n",
              "      }\n",
              "    };\n",
              "  }\n",
              "\n",
              "  for (const file of files) {\n",
              "    const li = document.createElement('li');\n",
              "    li.append(span(file.name, {fontWeight: 'bold'}));\n",
              "    li.append(span(\n",
              "        `(${file.type || 'n/a'}) - ${file.size} bytes, ` +\n",
              "        `last modified: ${\n",
              "            file.lastModifiedDate ? file.lastModifiedDate.toLocaleDateString() :\n",
              "                                    'n/a'} - `));\n",
              "    const percent = span('0% done');\n",
              "    li.appendChild(percent);\n",
              "\n",
              "    outputElement.appendChild(li);\n",
              "\n",
              "    const fileDataPromise = new Promise((resolve) => {\n",
              "      const reader = new FileReader();\n",
              "      reader.onload = (e) => {\n",
              "        resolve(e.target.result);\n",
              "      };\n",
              "      reader.readAsArrayBuffer(file);\n",
              "    });\n",
              "    // Wait for the data to be ready.\n",
              "    let fileData = yield {\n",
              "      promise: fileDataPromise,\n",
              "      response: {\n",
              "        action: 'continue',\n",
              "      }\n",
              "    };\n",
              "\n",
              "    // Use a chunked sending to avoid message size limits. See b/62115660.\n",
              "    let position = 0;\n",
              "    do {\n",
              "      const length = Math.min(fileData.byteLength - position, MAX_PAYLOAD_SIZE);\n",
              "      const chunk = new Uint8Array(fileData, position, length);\n",
              "      position += length;\n",
              "\n",
              "      const base64 = btoa(String.fromCharCode.apply(null, chunk));\n",
              "      yield {\n",
              "        response: {\n",
              "          action: 'append',\n",
              "          file: file.name,\n",
              "          data: base64,\n",
              "        },\n",
              "      };\n",
              "\n",
              "      let percentDone = fileData.byteLength === 0 ?\n",
              "          100 :\n",
              "          Math.round((position / fileData.byteLength) * 100);\n",
              "      percent.textContent = `${percentDone}% done`;\n",
              "\n",
              "    } while (position < fileData.byteLength);\n",
              "  }\n",
              "\n",
              "  // All done.\n",
              "  yield {\n",
              "    response: {\n",
              "      action: 'complete',\n",
              "    }\n",
              "  };\n",
              "}\n",
              "\n",
              "scope.google = scope.google || {};\n",
              "scope.google.colab = scope.google.colab || {};\n",
              "scope.google.colab._files = {\n",
              "  _uploadFiles,\n",
              "  _uploadFilesContinue,\n",
              "};\n",
              "})(self);\n",
              "</script> "
            ]
          },
          "metadata": {}
        },
        {
          "output_type": "stream",
          "name": "stdout",
          "text": [
            "Saving charity_data.csv to charity_data (2).csv\n"
          ]
        },
        {
          "output_type": "execute_result",
          "data": {
            "text/plain": [
              "        EIN                                      NAME APPLICATION_TYPE  \\\n",
              "0  10520599              BLUE KNIGHTS MOTORCYCLE CLUB              T10   \n",
              "1  10531628    AMERICAN CHESAPEAKE CLUB CHARITABLE TR               T3   \n",
              "2  10547893        ST CLOUD PROFESSIONAL FIREFIGHTERS               T5   \n",
              "3  10553066            SOUTHSIDE ATHLETIC ASSOCIATION               T3   \n",
              "4  10556103  GENETIC RESEARCH INSTITUTE OF THE DESERT               T3   \n",
              "\n",
              "        AFFILIATION CLASSIFICATION      USE_CASE  ORGANIZATION  STATUS  \\\n",
              "0       Independent          C1000    ProductDev   Association       1   \n",
              "1       Independent          C2000  Preservation  Co-operative       1   \n",
              "2  CompanySponsored          C3000    ProductDev   Association       1   \n",
              "3  CompanySponsored          C2000  Preservation         Trust       1   \n",
              "4       Independent          C1000     Heathcare         Trust       1   \n",
              "\n",
              "      INCOME_AMT SPECIAL_CONSIDERATIONS  ASK_AMT  IS_SUCCESSFUL  \n",
              "0              0                      N     5000              1  \n",
              "1         1-9999                      N   108590              1  \n",
              "2              0                      N     5000              0  \n",
              "3    10000-24999                      N     6692              1  \n",
              "4  100000-499999                      N   142590              1  "
            ],
            "text/html": [
              "\n",
              "  <div id=\"df-9759f7df-9611-4be7-96d0-872ae2edc345\">\n",
              "    <div class=\"colab-df-container\">\n",
              "      <div>\n",
              "<style scoped>\n",
              "    .dataframe tbody tr th:only-of-type {\n",
              "        vertical-align: middle;\n",
              "    }\n",
              "\n",
              "    .dataframe tbody tr th {\n",
              "        vertical-align: top;\n",
              "    }\n",
              "\n",
              "    .dataframe thead th {\n",
              "        text-align: right;\n",
              "    }\n",
              "</style>\n",
              "<table border=\"1\" class=\"dataframe\">\n",
              "  <thead>\n",
              "    <tr style=\"text-align: right;\">\n",
              "      <th></th>\n",
              "      <th>EIN</th>\n",
              "      <th>NAME</th>\n",
              "      <th>APPLICATION_TYPE</th>\n",
              "      <th>AFFILIATION</th>\n",
              "      <th>CLASSIFICATION</th>\n",
              "      <th>USE_CASE</th>\n",
              "      <th>ORGANIZATION</th>\n",
              "      <th>STATUS</th>\n",
              "      <th>INCOME_AMT</th>\n",
              "      <th>SPECIAL_CONSIDERATIONS</th>\n",
              "      <th>ASK_AMT</th>\n",
              "      <th>IS_SUCCESSFUL</th>\n",
              "    </tr>\n",
              "  </thead>\n",
              "  <tbody>\n",
              "    <tr>\n",
              "      <th>0</th>\n",
              "      <td>10520599</td>\n",
              "      <td>BLUE KNIGHTS MOTORCYCLE CLUB</td>\n",
              "      <td>T10</td>\n",
              "      <td>Independent</td>\n",
              "      <td>C1000</td>\n",
              "      <td>ProductDev</td>\n",
              "      <td>Association</td>\n",
              "      <td>1</td>\n",
              "      <td>0</td>\n",
              "      <td>N</td>\n",
              "      <td>5000</td>\n",
              "      <td>1</td>\n",
              "    </tr>\n",
              "    <tr>\n",
              "      <th>1</th>\n",
              "      <td>10531628</td>\n",
              "      <td>AMERICAN CHESAPEAKE CLUB CHARITABLE TR</td>\n",
              "      <td>T3</td>\n",
              "      <td>Independent</td>\n",
              "      <td>C2000</td>\n",
              "      <td>Preservation</td>\n",
              "      <td>Co-operative</td>\n",
              "      <td>1</td>\n",
              "      <td>1-9999</td>\n",
              "      <td>N</td>\n",
              "      <td>108590</td>\n",
              "      <td>1</td>\n",
              "    </tr>\n",
              "    <tr>\n",
              "      <th>2</th>\n",
              "      <td>10547893</td>\n",
              "      <td>ST CLOUD PROFESSIONAL FIREFIGHTERS</td>\n",
              "      <td>T5</td>\n",
              "      <td>CompanySponsored</td>\n",
              "      <td>C3000</td>\n",
              "      <td>ProductDev</td>\n",
              "      <td>Association</td>\n",
              "      <td>1</td>\n",
              "      <td>0</td>\n",
              "      <td>N</td>\n",
              "      <td>5000</td>\n",
              "      <td>0</td>\n",
              "    </tr>\n",
              "    <tr>\n",
              "      <th>3</th>\n",
              "      <td>10553066</td>\n",
              "      <td>SOUTHSIDE ATHLETIC ASSOCIATION</td>\n",
              "      <td>T3</td>\n",
              "      <td>CompanySponsored</td>\n",
              "      <td>C2000</td>\n",
              "      <td>Preservation</td>\n",
              "      <td>Trust</td>\n",
              "      <td>1</td>\n",
              "      <td>10000-24999</td>\n",
              "      <td>N</td>\n",
              "      <td>6692</td>\n",
              "      <td>1</td>\n",
              "    </tr>\n",
              "    <tr>\n",
              "      <th>4</th>\n",
              "      <td>10556103</td>\n",
              "      <td>GENETIC RESEARCH INSTITUTE OF THE DESERT</td>\n",
              "      <td>T3</td>\n",
              "      <td>Independent</td>\n",
              "      <td>C1000</td>\n",
              "      <td>Heathcare</td>\n",
              "      <td>Trust</td>\n",
              "      <td>1</td>\n",
              "      <td>100000-499999</td>\n",
              "      <td>N</td>\n",
              "      <td>142590</td>\n",
              "      <td>1</td>\n",
              "    </tr>\n",
              "  </tbody>\n",
              "</table>\n",
              "</div>\n",
              "      <button class=\"colab-df-convert\" onclick=\"convertToInteractive('df-9759f7df-9611-4be7-96d0-872ae2edc345')\"\n",
              "              title=\"Convert this dataframe to an interactive table.\"\n",
              "              style=\"display:none;\">\n",
              "        \n",
              "  <svg xmlns=\"http://www.w3.org/2000/svg\" height=\"24px\"viewBox=\"0 0 24 24\"\n",
              "       width=\"24px\">\n",
              "    <path d=\"M0 0h24v24H0V0z\" fill=\"none\"/>\n",
              "    <path d=\"M18.56 5.44l.94 2.06.94-2.06 2.06-.94-2.06-.94-.94-2.06-.94 2.06-2.06.94zm-11 1L8.5 8.5l.94-2.06 2.06-.94-2.06-.94L8.5 2.5l-.94 2.06-2.06.94zm10 10l.94 2.06.94-2.06 2.06-.94-2.06-.94-.94-2.06-.94 2.06-2.06.94z\"/><path d=\"M17.41 7.96l-1.37-1.37c-.4-.4-.92-.59-1.43-.59-.52 0-1.04.2-1.43.59L10.3 9.45l-7.72 7.72c-.78.78-.78 2.05 0 2.83L4 21.41c.39.39.9.59 1.41.59.51 0 1.02-.2 1.41-.59l7.78-7.78 2.81-2.81c.8-.78.8-2.07 0-2.86zM5.41 20L4 18.59l7.72-7.72 1.47 1.35L5.41 20z\"/>\n",
              "  </svg>\n",
              "      </button>\n",
              "      \n",
              "  <style>\n",
              "    .colab-df-container {\n",
              "      display:flex;\n",
              "      flex-wrap:wrap;\n",
              "      gap: 12px;\n",
              "    }\n",
              "\n",
              "    .colab-df-convert {\n",
              "      background-color: #E8F0FE;\n",
              "      border: none;\n",
              "      border-radius: 50%;\n",
              "      cursor: pointer;\n",
              "      display: none;\n",
              "      fill: #1967D2;\n",
              "      height: 32px;\n",
              "      padding: 0 0 0 0;\n",
              "      width: 32px;\n",
              "    }\n",
              "\n",
              "    .colab-df-convert:hover {\n",
              "      background-color: #E2EBFA;\n",
              "      box-shadow: 0px 1px 2px rgba(60, 64, 67, 0.3), 0px 1px 3px 1px rgba(60, 64, 67, 0.15);\n",
              "      fill: #174EA6;\n",
              "    }\n",
              "\n",
              "    [theme=dark] .colab-df-convert {\n",
              "      background-color: #3B4455;\n",
              "      fill: #D2E3FC;\n",
              "    }\n",
              "\n",
              "    [theme=dark] .colab-df-convert:hover {\n",
              "      background-color: #434B5C;\n",
              "      box-shadow: 0px 1px 3px 1px rgba(0, 0, 0, 0.15);\n",
              "      filter: drop-shadow(0px 1px 2px rgba(0, 0, 0, 0.3));\n",
              "      fill: #FFFFFF;\n",
              "    }\n",
              "  </style>\n",
              "\n",
              "      <script>\n",
              "        const buttonEl =\n",
              "          document.querySelector('#df-9759f7df-9611-4be7-96d0-872ae2edc345 button.colab-df-convert');\n",
              "        buttonEl.style.display =\n",
              "          google.colab.kernel.accessAllowed ? 'block' : 'none';\n",
              "\n",
              "        async function convertToInteractive(key) {\n",
              "          const element = document.querySelector('#df-9759f7df-9611-4be7-96d0-872ae2edc345');\n",
              "          const dataTable =\n",
              "            await google.colab.kernel.invokeFunction('convertToInteractive',\n",
              "                                                     [key], {});\n",
              "          if (!dataTable) return;\n",
              "\n",
              "          const docLinkHtml = 'Like what you see? Visit the ' +\n",
              "            '<a target=\"_blank\" href=https://colab.research.google.com/notebooks/data_table.ipynb>data table notebook</a>'\n",
              "            + ' to learn more about interactive tables.';\n",
              "          element.innerHTML = '';\n",
              "          dataTable['output_type'] = 'display_data';\n",
              "          await google.colab.output.renderOutput(dataTable, element);\n",
              "          const docLink = document.createElement('div');\n",
              "          docLink.innerHTML = docLinkHtml;\n",
              "          element.appendChild(docLink);\n",
              "        }\n",
              "      </script>\n",
              "    </div>\n",
              "  </div>\n",
              "  "
            ]
          },
          "metadata": {},
          "execution_count": 11
        }
      ],
      "source": [
        "# Import our dependencies\n",
        "from sklearn.model_selection import train_test_split\n",
        "from sklearn.preprocessing import StandardScaler\n",
        "import pandas as pd\n",
        "import tensorflow as tf\n",
        "from google.colab import files\n",
        "\n",
        "uploaded = files.upload()\n",
        "\n",
        "#  Import and read the charity_data.csv.\n",
        "import pandas as pd \n",
        "df = pd.read_csv(\"charity_data.csv\")\n",
        "df.head()"
      ]
    },
    {
      "cell_type": "code",
      "source": [
        "# Drop the non-beneficial ID columns, 'EIN' and 'NAME'.\n",
        "df.drop(['EIN', 'NAME'], axis=1, inplace= True)"
      ],
      "metadata": {
        "id": "zL7cVBUVnxyY"
      },
      "execution_count": 12,
      "outputs": []
    },
    {
      "cell_type": "code",
      "execution_count": 13,
      "metadata": {
        "colab": {
          "base_uri": "https://localhost:8080/"
        },
        "id": "Ak8m-Hz3cPrG",
        "outputId": "446f8b6f-d3ab-4ac5-9d7a-b81592bfd45b"
      },
      "outputs": [
        {
          "output_type": "execute_result",
          "data": {
            "text/plain": [
              "T3       27037\n",
              "T4        1542\n",
              "T6        1216\n",
              "T5        1173\n",
              "T19       1065\n",
              "T8         737\n",
              "T7         725\n",
              "T10        528\n",
              "Other      276\n",
              "Name: APPLICATION_TYPE, dtype: int64"
            ]
          },
          "metadata": {},
          "execution_count": 13
        }
      ],
      "source": [
        "# Choose a cutoff value and create a list of application types to be replaced\n",
        "# use the variable name `application_types_to_replace`\n",
        "application_types_to_replace = ['T9','T13','T12','T2','T25','T14','T29','T15','T17']\n",
        "\n",
        "# Replace in dataframe\n",
        "for app in application_types_to_replace:\n",
        "    df['APPLICATION_TYPE'] = df['APPLICATION_TYPE'].replace(app,\"Other\")\n",
        "\n",
        "# Check to make sure binning was successful\n",
        "df['APPLICATION_TYPE'].value_counts()"
      ]
    },
    {
      "cell_type": "code",
      "execution_count": 14,
      "metadata": {
        "colab": {
          "base_uri": "https://localhost:8080/"
        },
        "id": "WfkBBhdtcPrJ",
        "outputId": "b4b3408f-ba17-41c5-9eb2-d4c73a3aa5b5"
      },
      "outputs": [
        {
          "output_type": "execute_result",
          "data": {
            "text/plain": [
              "C1000    17326\n",
              "C2000     6074\n",
              "C1200     4837\n",
              "Other     2261\n",
              "C3000     1918\n",
              "C2100     1883\n",
              "Name: CLASSIFICATION, dtype: int64"
            ]
          },
          "metadata": {},
          "execution_count": 14
        }
      ],
      "source": [
        "# Choose a cutoff value and create a list of classifications to be replaced\n",
        "# use the variable name `classifications_to_replace`\n",
        "\n",
        "classifications_to_replace = ['C1256','C3200','C1267','C1246','C1234','C2710','C1260','C0','C1600','C1257','C4100','C2400','C1720','C7210','C1235','C1237','C1238','C1278','C8200','C1250','C6000','C1800',\n",
        "                                'C1500,','C7120','C8000','C1240','C2300','C7200','C1400','C1230','C2300','C7200','C1400','C1230','C1280','C1300','C7100','C2800','C2700', 'C1270','C5000','C4000','C1700',\n",
        "                                  'C7000','C1500','C1370','C1236','C2190','C4200','C5200','C6100','C2600','C1248','C1580','C1820','C1900','C2570','C1283','C3700','C2500','C1570','C2380','C1732','C1728',\n",
        "                                    'C2170','C2170','C4120','C8210','C4500','C1245','C2561','C2150']\n",
        "\n",
        "# Replace in dataframe\n",
        "for cls in classifications_to_replace:\n",
        "    df['CLASSIFICATION'] = df['CLASSIFICATION'].replace(cls,\"Other\")\n",
        "    \n",
        "# Check to make sure binning was successful\n",
        "df['CLASSIFICATION'].value_counts()"
      ]
    },
    {
      "cell_type": "code",
      "source": [
        "df = pd.get_dummies(df, prefix='', prefix_sep='',\n",
        "                                columns= ['APPLICATION_TYPE','AFFILIATION','CLASSIFICATION','USE_CASE','ORGANIZATION','INCOME_AMT','SPECIAL_CONSIDERATIONS'])"
      ],
      "metadata": {
        "id": "PGtMES_xm25i"
      },
      "execution_count": 15,
      "outputs": []
    },
    {
      "cell_type": "code",
      "execution_count": 16,
      "metadata": {
        "colab": {
          "base_uri": "https://localhost:8080/"
        },
        "id": "wjwn4-HWcPrL",
        "outputId": "0405166c-4774-46df-ff3b-885391e62bb1"
      },
      "outputs": [
        {
          "output_type": "stream",
          "name": "stderr",
          "text": [
            "/usr/local/lib/python3.7/dist-packages/ipykernel_launcher.py:3: FutureWarning: In a future version of pandas all arguments of DataFrame.drop except for the argument 'labels' will be keyword-only\n",
            "  This is separate from the ipykernel package so we can avoid doing imports until\n"
          ]
        }
      ],
      "source": [
        "# Split our preprocessed data into our features and target arrays\n",
        "y = df[\"Y\"].values\n",
        "X = df.drop([\"Y\",'N'],1).values\n",
        "\n",
        "# Split the preprocessed data into a training and testing dataset\n",
        "X_train, X_test, y_train, y_test = train_test_split(X, y, random_state=78)"
      ]
    },
    {
      "cell_type": "code",
      "execution_count": 17,
      "metadata": {
        "id": "-lquISZicPrL"
      },
      "outputs": [],
      "source": [
        "# Create a StandardScaler instances\n",
        "scaler = StandardScaler()\n",
        "\n",
        "# Fit the StandardScaler\n",
        "X_scaler = scaler.fit(X_train)\n",
        "\n",
        "# Scale the data\n",
        "X_train_scaled = X_scaler.transform(X_train)\n",
        "X_test_scaled = X_scaler.transform(X_test)"
      ]
    },
    {
      "cell_type": "code",
      "execution_count": 19,
      "metadata": {
        "colab": {
          "base_uri": "https://localhost:8080/"
        },
        "id": "vJbUuYFNcPrM",
        "outputId": "b5516f32-1091-4538-ad83-e5785b94624b"
      },
      "outputs": [
        {
          "output_type": "stream",
          "name": "stdout",
          "text": [
            "Model: \"sequential_1\"\n",
            "_________________________________________________________________\n",
            " Layer (type)                Output Shape              Param #   \n",
            "=================================================================\n",
            " dense_3 (Dense)             (None, 8)                 344       \n",
            "                                                                 \n",
            " dense_4 (Dense)             (None, 5)                 45        \n",
            "                                                                 \n",
            " dense_5 (Dense)             (None, 1)                 6         \n",
            "                                                                 \n",
            "=================================================================\n",
            "Total params: 395\n",
            "Trainable params: 395\n",
            "Non-trainable params: 0\n",
            "_________________________________________________________________\n"
          ]
        }
      ],
      "source": [
        "# Model 1\n",
        "number_input_features = len(X_train[0])\n",
        "hidden_nodes_layer1 =  8\n",
        "hidden_nodes_layer2 = 5\n",
        "\n",
        "nn = tf.keras.models.Sequential()\n",
        "\n",
        "# First hidden layer\n",
        "nn.add(tf.keras.layers.Dense(units=hidden_nodes_layer1, input_dim=number_input_features, activation=\"relu\"))\n",
        "\n",
        "# Second hidden layer\n",
        "nn.add(tf.keras.layers.Dense(units=hidden_nodes_layer2, activation=\"relu\"))\n",
        "\n",
        "# Output layer\n",
        "nn.add(tf.keras.layers.Dense(units=1, activation=\"sigmoid\"))\n",
        "\n",
        "# Check the structure of the model\n",
        "nn.summary()"
      ]
    },
    {
      "cell_type": "code",
      "execution_count": 20,
      "metadata": {
        "id": "t4nm2z67cPrN"
      },
      "outputs": [],
      "source": [
        "# Compile the model\n",
        "nn.compile(loss=\"binary_crossentropy\", optimizer=\"adam\", metrics=[\"accuracy\"])"
      ]
    },
    {
      "cell_type": "code",
      "execution_count": 22,
      "metadata": {
        "colab": {
          "base_uri": "https://localhost:8080/"
        },
        "id": "MHJA7QNrcPrN",
        "outputId": "a4529f5a-325a-4de4-a400-3572f6f98731"
      },
      "outputs": [
        {
          "output_type": "stream",
          "name": "stdout",
          "text": [
            "Epoch 1/25\n",
            "804/804 [==============================] - 1s 2ms/step - loss: 0.0057 - accuracy: 0.9992\n",
            "Epoch 2/25\n",
            "804/804 [==============================] - 1s 2ms/step - loss: 0.0056 - accuracy: 0.9992\n",
            "Epoch 3/25\n",
            "804/804 [==============================] - 1s 2ms/step - loss: 0.0056 - accuracy: 0.9992\n",
            "Epoch 4/25\n",
            "804/804 [==============================] - 1s 2ms/step - loss: 0.0055 - accuracy: 0.9992\n",
            "Epoch 5/25\n",
            "804/804 [==============================] - 2s 2ms/step - loss: 0.0055 - accuracy: 0.9992\n",
            "Epoch 6/25\n",
            "804/804 [==============================] - 1s 2ms/step - loss: 0.0055 - accuracy: 0.9992\n",
            "Epoch 7/25\n",
            "804/804 [==============================] - 1s 2ms/step - loss: 0.0054 - accuracy: 0.9992\n",
            "Epoch 8/25\n",
            "804/804 [==============================] - 1s 2ms/step - loss: 0.0054 - accuracy: 0.9992\n",
            "Epoch 9/25\n",
            "804/804 [==============================] - 2s 3ms/step - loss: 0.0054 - accuracy: 0.9992\n",
            "Epoch 10/25\n",
            "804/804 [==============================] - 3s 4ms/step - loss: 0.0054 - accuracy: 0.9992\n",
            "Epoch 11/25\n",
            "804/804 [==============================] - 2s 2ms/step - loss: 0.0053 - accuracy: 0.9992\n",
            "Epoch 12/25\n",
            "804/804 [==============================] - 1s 2ms/step - loss: 0.0053 - accuracy: 0.9992\n",
            "Epoch 13/25\n",
            "804/804 [==============================] - 1s 2ms/step - loss: 0.0053 - accuracy: 0.9992\n",
            "Epoch 14/25\n",
            "804/804 [==============================] - 1s 2ms/step - loss: 0.0053 - accuracy: 0.9992\n",
            "Epoch 15/25\n",
            "804/804 [==============================] - 1s 2ms/step - loss: 0.0053 - accuracy: 0.9992\n",
            "Epoch 16/25\n",
            "804/804 [==============================] - 1s 2ms/step - loss: 0.0053 - accuracy: 0.9992\n",
            "Epoch 17/25\n",
            "804/804 [==============================] - 1s 2ms/step - loss: 0.0053 - accuracy: 0.9992\n",
            "Epoch 18/25\n",
            "804/804 [==============================] - 1s 2ms/step - loss: 0.0053 - accuracy: 0.9992\n",
            "Epoch 19/25\n",
            "804/804 [==============================] - 1s 2ms/step - loss: 0.0053 - accuracy: 0.9992\n",
            "Epoch 20/25\n",
            "804/804 [==============================] - 1s 2ms/step - loss: 0.0053 - accuracy: 0.9992\n",
            "Epoch 21/25\n",
            "804/804 [==============================] - 1s 2ms/step - loss: 0.0052 - accuracy: 0.9992\n",
            "Epoch 22/25\n",
            "804/804 [==============================] - 1s 2ms/step - loss: 0.0052 - accuracy: 0.9992\n",
            "Epoch 23/25\n",
            "804/804 [==============================] - 1s 2ms/step - loss: 0.0052 - accuracy: 0.9992\n",
            "Epoch 24/25\n",
            "804/804 [==============================] - 1s 2ms/step - loss: 0.0052 - accuracy: 0.9992\n",
            "Epoch 25/25\n",
            "804/804 [==============================] - 1s 2ms/step - loss: 0.0052 - accuracy: 0.9992\n"
          ]
        }
      ],
      "source": [
        "# Train the model\n",
        "fit_model = nn.fit(X_train_scaled,y_train,epochs=25)"
      ]
    },
    {
      "cell_type": "code",
      "execution_count": 23,
      "metadata": {
        "colab": {
          "base_uri": "https://localhost:8080/"
        },
        "id": "05lA31bTcPrO",
        "outputId": "bf688ab5-4e8d-4b98-f17b-04c414c05132"
      },
      "outputs": [
        {
          "output_type": "stream",
          "name": "stdout",
          "text": [
            "268/268 - 0s - loss: 0.0050 - accuracy: 0.9991 - 436ms/epoch - 2ms/step\n",
            "Loss: 0.004970563109964132, Accuracy: 0.9990670680999756\n"
          ]
        }
      ],
      "source": [
        "# Evaluate the model using the test data\n",
        "model_loss, model_accuracy = nn.evaluate(X_test_scaled,y_test,verbose=2)\n",
        "print(f\"Loss: {model_loss}, Accuracy: {model_accuracy}\")"
      ]
    },
    {
      "cell_type": "code",
      "source": [
        "# Model 2 / changed the amount of hidden nodes\n",
        "number_input_features = len(X_train[0])\n",
        "hidden_nodes_layer1 =  5\n",
        "hidden_nodes_layer2 = 5\n",
        "\n",
        "fn = tf.keras.models.Sequential()\n",
        "\n",
        "# First hidden layer\n",
        "fn.add(tf.keras.layers.Dense(units=hidden_nodes_layer1, input_dim=number_input_features, activation=\"relu\"))\n",
        "\n",
        "# Second hidden layer\n",
        "fn.add(tf.keras.layers.Dense(units=hidden_nodes_layer2, activation=\"relu\"))\n",
        "\n",
        "# Output layer\n",
        "fn.add(tf.keras.layers.Dense(units=1, activation=\"sigmoid\"))\n",
        "\n",
        "# Check the structure of the model\n",
        "fn.summary()"
      ],
      "metadata": {
        "colab": {
          "base_uri": "https://localhost:8080/"
        },
        "id": "dspn7jcPr3P0",
        "outputId": "570d5a52-c5d3-433e-9d8c-1eb972e79df5"
      },
      "execution_count": 24,
      "outputs": [
        {
          "output_type": "stream",
          "name": "stdout",
          "text": [
            "Model: \"sequential_2\"\n",
            "_________________________________________________________________\n",
            " Layer (type)                Output Shape              Param #   \n",
            "=================================================================\n",
            " dense_6 (Dense)             (None, 5)                 215       \n",
            "                                                                 \n",
            " dense_7 (Dense)             (None, 5)                 30        \n",
            "                                                                 \n",
            " dense_8 (Dense)             (None, 1)                 6         \n",
            "                                                                 \n",
            "=================================================================\n",
            "Total params: 251\n",
            "Trainable params: 251\n",
            "Non-trainable params: 0\n",
            "_________________________________________________________________\n"
          ]
        }
      ]
    },
    {
      "cell_type": "code",
      "source": [
        "# Compile the model\n",
        "fn.compile(loss=\"binary_crossentropy\", optimizer=\"adam\", metrics=[\"accuracy\"])"
      ],
      "metadata": {
        "id": "G6YYfX4KsJuM"
      },
      "execution_count": 25,
      "outputs": []
    },
    {
      "cell_type": "code",
      "source": [
        "# Train the model\n",
        "fit_model = fn.fit(X_train_scaled,y_train,epochs=25)"
      ],
      "metadata": {
        "colab": {
          "base_uri": "https://localhost:8080/"
        },
        "id": "zAnWYWA6sMqZ",
        "outputId": "088ebc45-566a-4e10-bab7-ee92fbb925c7"
      },
      "execution_count": 26,
      "outputs": [
        {
          "output_type": "stream",
          "name": "stdout",
          "text": [
            "Epoch 1/25\n",
            "804/804 [==============================] - 2s 2ms/step - loss: 0.1662 - accuracy: 0.9603\n",
            "Epoch 2/25\n",
            "804/804 [==============================] - 1s 2ms/step - loss: 0.0088 - accuracy: 0.9991\n",
            "Epoch 3/25\n",
            "804/804 [==============================] - 1s 2ms/step - loss: 0.0066 - accuracy: 0.9991\n",
            "Epoch 4/25\n",
            "804/804 [==============================] - 1s 2ms/step - loss: 0.0061 - accuracy: 0.9992\n",
            "Epoch 5/25\n",
            "804/804 [==============================] - 1s 2ms/step - loss: 0.0057 - accuracy: 0.9992\n",
            "Epoch 6/25\n",
            "804/804 [==============================] - 2s 2ms/step - loss: 0.0056 - accuracy: 0.9992\n",
            "Epoch 7/25\n",
            "804/804 [==============================] - 2s 3ms/step - loss: 0.0055 - accuracy: 0.9992\n",
            "Epoch 8/25\n",
            "804/804 [==============================] - 1s 2ms/step - loss: 0.0055 - accuracy: 0.9992\n",
            "Epoch 9/25\n",
            "804/804 [==============================] - 1s 2ms/step - loss: 0.0055 - accuracy: 0.9992\n",
            "Epoch 10/25\n",
            "804/804 [==============================] - 2s 2ms/step - loss: 0.0054 - accuracy: 0.9992\n",
            "Epoch 11/25\n",
            "804/804 [==============================] - 2s 3ms/step - loss: 0.0054 - accuracy: 0.9992\n",
            "Epoch 12/25\n",
            "804/804 [==============================] - 1s 2ms/step - loss: 0.0053 - accuracy: 0.9992\n",
            "Epoch 13/25\n",
            "804/804 [==============================] - 1s 2ms/step - loss: 0.0054 - accuracy: 0.9992\n",
            "Epoch 14/25\n",
            "804/804 [==============================] - 1s 2ms/step - loss: 0.0053 - accuracy: 0.9992\n",
            "Epoch 15/25\n",
            "804/804 [==============================] - 1s 2ms/step - loss: 0.0053 - accuracy: 0.9992\n",
            "Epoch 16/25\n",
            "804/804 [==============================] - 2s 2ms/step - loss: 0.0053 - accuracy: 0.9992\n",
            "Epoch 17/25\n",
            "804/804 [==============================] - 1s 2ms/step - loss: 0.0053 - accuracy: 0.9992\n",
            "Epoch 18/25\n",
            "804/804 [==============================] - 2s 2ms/step - loss: 0.0052 - accuracy: 0.9992\n",
            "Epoch 19/25\n",
            "804/804 [==============================] - 1s 2ms/step - loss: 0.0052 - accuracy: 0.9992\n",
            "Epoch 20/25\n",
            "804/804 [==============================] - 2s 2ms/step - loss: 0.0052 - accuracy: 0.9993\n",
            "Epoch 21/25\n",
            "804/804 [==============================] - 1s 2ms/step - loss: 0.0052 - accuracy: 0.9992\n",
            "Epoch 22/25\n",
            "804/804 [==============================] - 1s 2ms/step - loss: 0.0052 - accuracy: 0.9993\n",
            "Epoch 23/25\n",
            "804/804 [==============================] - 1s 2ms/step - loss: 0.0052 - accuracy: 0.9992\n",
            "Epoch 24/25\n",
            "804/804 [==============================] - 2s 2ms/step - loss: 0.0051 - accuracy: 0.9993\n",
            "Epoch 25/25\n",
            "804/804 [==============================] - 2s 3ms/step - loss: 0.0051 - accuracy: 0.9993\n"
          ]
        }
      ]
    },
    {
      "cell_type": "code",
      "source": [
        "# Evaluate the model using the test data\n",
        "model_loss, model_accuracy = nn.evaluate(X_test_scaled,y_test,verbose=2)\n",
        "print(f\"Loss: {model_loss}, Accuracy: {model_accuracy}\")"
      ],
      "metadata": {
        "colab": {
          "base_uri": "https://localhost:8080/"
        },
        "id": "gY4sEQXPsYvq",
        "outputId": "2917ab1a-85e1-4f01-f2a9-184fca5a3ebf"
      },
      "execution_count": 27,
      "outputs": [
        {
          "output_type": "stream",
          "name": "stdout",
          "text": [
            "268/268 - 1s - loss: 0.0050 - accuracy: 0.9991 - 562ms/epoch - 2ms/step\n",
            "Loss: 0.004970563109964132, Accuracy: 0.9990670680999756\n"
          ]
        }
      ]
    },
    {
      "cell_type": "code",
      "source": [
        "# Model 3 / changed the amount of hidden nodes\n",
        "number_input_features = len(X_train[0])\n",
        "hidden_nodes_layer1 =  7\n",
        "hidden_nodes_layer2 = 7\n",
        "\n",
        "an = tf.keras.models.Sequential()\n",
        "\n",
        "# First hidden layer\n",
        "an.add(tf.keras.layers.Dense(units=hidden_nodes_layer1, input_dim=number_input_features, activation=\"relu\"))\n",
        "\n",
        "# Second hidden layer\n",
        "an.add(tf.keras.layers.Dense(units=hidden_nodes_layer2, activation=\"relu\"))\n",
        "\n",
        "# Output layer\n",
        "an.add(tf.keras.layers.Dense(units=1, activation=\"sigmoid\"))\n",
        "\n",
        "# Check the structure of the model\n",
        "an.summary()"
      ],
      "metadata": {
        "colab": {
          "base_uri": "https://localhost:8080/"
        },
        "id": "BOdJVaG1uAdO",
        "outputId": "704c958c-1971-488e-e6ad-a0cdc47b8f45"
      },
      "execution_count": 28,
      "outputs": [
        {
          "output_type": "stream",
          "name": "stdout",
          "text": [
            "Model: \"sequential_3\"\n",
            "_________________________________________________________________\n",
            " Layer (type)                Output Shape              Param #   \n",
            "=================================================================\n",
            " dense_9 (Dense)             (None, 7)                 301       \n",
            "                                                                 \n",
            " dense_10 (Dense)            (None, 7)                 56        \n",
            "                                                                 \n",
            " dense_11 (Dense)            (None, 1)                 8         \n",
            "                                                                 \n",
            "=================================================================\n",
            "Total params: 365\n",
            "Trainable params: 365\n",
            "Non-trainable params: 0\n",
            "_________________________________________________________________\n"
          ]
        }
      ]
    },
    {
      "cell_type": "code",
      "source": [
        "# Compile the model\n",
        "an.compile(loss=\"binary_crossentropy\", optimizer=\"adam\", metrics=[\"accuracy\"])"
      ],
      "metadata": {
        "id": "FkEzaAp0uJvk"
      },
      "execution_count": 30,
      "outputs": []
    },
    {
      "cell_type": "code",
      "source": [
        "# Train the model\n",
        "fit_model = an.fit(X_train_scaled,y_train,epochs=25)"
      ],
      "metadata": {
        "colab": {
          "base_uri": "https://localhost:8080/"
        },
        "id": "W1uqFYgouMlw",
        "outputId": "a9e112c2-3b3d-46c1-af61-035582414b9a"
      },
      "execution_count": 31,
      "outputs": [
        {
          "output_type": "stream",
          "name": "stdout",
          "text": [
            "Epoch 1/25\n",
            "804/804 [==============================] - 2s 2ms/step - loss: 0.3188 - accuracy: 0.8704\n",
            "Epoch 2/25\n",
            "804/804 [==============================] - 1s 2ms/step - loss: 0.0104 - accuracy: 0.9992\n",
            "Epoch 3/25\n",
            "804/804 [==============================] - 1s 2ms/step - loss: 0.0067 - accuracy: 0.9992\n",
            "Epoch 4/25\n",
            "804/804 [==============================] - 1s 2ms/step - loss: 0.0061 - accuracy: 0.9992\n",
            "Epoch 5/25\n",
            "804/804 [==============================] - 1s 2ms/step - loss: 0.0058 - accuracy: 0.9992\n",
            "Epoch 6/25\n",
            "804/804 [==============================] - 1s 2ms/step - loss: 0.0057 - accuracy: 0.9992\n",
            "Epoch 7/25\n",
            "804/804 [==============================] - 1s 2ms/step - loss: 0.0056 - accuracy: 0.9992\n",
            "Epoch 8/25\n",
            "804/804 [==============================] - 1s 2ms/step - loss: 0.0056 - accuracy: 0.9992\n",
            "Epoch 9/25\n",
            "804/804 [==============================] - 1s 2ms/step - loss: 0.0055 - accuracy: 0.9992\n",
            "Epoch 10/25\n",
            "804/804 [==============================] - 2s 2ms/step - loss: 0.0054 - accuracy: 0.9992\n",
            "Epoch 11/25\n",
            "804/804 [==============================] - 2s 2ms/step - loss: 0.0055 - accuracy: 0.9992\n",
            "Epoch 12/25\n",
            "804/804 [==============================] - 2s 2ms/step - loss: 0.0054 - accuracy: 0.9992\n",
            "Epoch 13/25\n",
            "804/804 [==============================] - 1s 2ms/step - loss: 0.0054 - accuracy: 0.9992\n",
            "Epoch 14/25\n",
            "804/804 [==============================] - 1s 2ms/step - loss: 0.0053 - accuracy: 0.9992\n",
            "Epoch 15/25\n",
            "804/804 [==============================] - 1s 2ms/step - loss: 0.0054 - accuracy: 0.9992\n",
            "Epoch 16/25\n",
            "804/804 [==============================] - 1s 2ms/step - loss: 0.0053 - accuracy: 0.9992\n",
            "Epoch 17/25\n",
            "804/804 [==============================] - 2s 2ms/step - loss: 0.0053 - accuracy: 0.9992\n",
            "Epoch 18/25\n",
            "804/804 [==============================] - 2s 2ms/step - loss: 0.0053 - accuracy: 0.9992\n",
            "Epoch 19/25\n",
            "804/804 [==============================] - 1s 2ms/step - loss: 0.0053 - accuracy: 0.9992\n",
            "Epoch 20/25\n",
            "804/804 [==============================] - 1s 2ms/step - loss: 0.0053 - accuracy: 0.9992\n",
            "Epoch 21/25\n",
            "804/804 [==============================] - 2s 2ms/step - loss: 0.0053 - accuracy: 0.9992\n",
            "Epoch 22/25\n",
            "804/804 [==============================] - 2s 2ms/step - loss: 0.0053 - accuracy: 0.9992\n",
            "Epoch 23/25\n",
            "804/804 [==============================] - 1s 2ms/step - loss: 0.0053 - accuracy: 0.9992\n",
            "Epoch 24/25\n",
            "804/804 [==============================] - 1s 2ms/step - loss: 0.0053 - accuracy: 0.9992\n",
            "Epoch 25/25\n",
            "804/804 [==============================] - 1s 2ms/step - loss: 0.0052 - accuracy: 0.9992\n"
          ]
        }
      ]
    },
    {
      "cell_type": "code",
      "source": [
        "# Evaluate the model using the test data\n",
        "model_loss, model_accuracy = nn.evaluate(X_test_scaled,y_test,verbose=2)\n",
        "print(f\"Loss: {model_loss}, Accuracy: {model_accuracy}\")"
      ],
      "metadata": {
        "colab": {
          "base_uri": "https://localhost:8080/"
        },
        "id": "wlDdLnxuuSxa",
        "outputId": "8d99e762-fddb-41a8-8ebd-f99177acdfad"
      },
      "execution_count": 32,
      "outputs": [
        {
          "output_type": "stream",
          "name": "stdout",
          "text": [
            "268/268 - 0s - loss: 0.0050 - accuracy: 0.9991 - 317ms/epoch - 1ms/step\n",
            "Loss: 0.004970563109964132, Accuracy: 0.9990670680999756\n"
          ]
        }
      ]
    }
  ]
}